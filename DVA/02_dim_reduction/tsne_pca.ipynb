{
 "cells": [
  {
   "cell_type": "markdown",
   "id": "ead960bc",
   "metadata": {},
   "source": [
    "# Data Visualization and Analysis - UZH"
   ]
  },
  {
   "cell_type": "markdown",
   "id": "500862e5",
   "metadata": {},
   "source": [
    "## Dimensional reduction techniques: PCA and T-SNE"
   ]
  },
  {
   "cell_type": "markdown",
   "id": "d346b20c",
   "metadata": {},
   "source": [
    "Dimensional reduction techniques are an important tool when working with datasets, which have more dimensions than we can convey using the coordinates, colors, shapes, or other visual cues. In such cases, a dimensional reduction technique may be applied to the high-dimensional dataset to project it into the low-dimensional visualization space (2D in our case since we have a two-dimensional coordinate system).\n",
    "The aim of this exercise is to practice different dimensionality reduction processes and to learn how to plot them."
   ]
  },
  {
   "cell_type": "code",
   "execution_count": 28,
   "id": "5ebfcd32-de86-489e-a06f-ab48b170196d",
   "metadata": {},
   "outputs": [],
   "source": [
    "import glob\n",
    "import os\n",
    "from matplotlib import pyplot as plt\n",
    "import numpy as np\n",
    "from PIL import Image\n",
    "\n",
    "from sklearn.manifold import TSNE\n",
    "from sklearn.decomposition import PCA\n",
    "from sklearn.preprocessing import normalize\n",
    "\n",
    "import bokeh.io\n",
    "from bokeh.plotting import figure, output_file, show, output_notebook\n",
    "from bokeh.plotting import figure, curdoc\n",
    "from bokeh.models import ColumnDataSource\n",
    "from bokeh.layouts import layout"
   ]
  },
  {
   "cell_type": "code",
   "execution_count": 18,
   "id": "42b48c79-29e8-4288-ad85-e02df75be2b9",
   "metadata": {},
   "outputs": [],
   "source": [
    "# Useful information:\n",
    "# https://docs.bokeh.org/en/latest/docs/reference/models/sources.html\n",
    "# https://docs.bokeh.org/en/latest/docs/reference/models/tools.html\n",
    "# https://docs.bokeh.org/en/latest/docs/reference/models/selections.html#bokeh.models.selections.Selection"
   ]
  },
  {
   "cell_type": "code",
   "execution_count": 19,
   "id": "2e32967e-3444-44f3-9057-a86c5e1f5b84",
   "metadata": {},
   "outputs": [],
   "source": [
    "def callback1(attr, old, new):\n",
    "    try:\n",
    "        #images_indx = new\n",
    "        N_BINS_CHANNEL_filtered2 = sum(N_BINS_CHANNEL_array[new, :])\n",
    "        CHANNEL_s.data = dict(x=range(0, 50), red=N_BINS_CHANNEL_filtered2[0], green=N_BINS_CHANNEL_filtered2[1],blue=N_BINS_CHANNEL_filtered2[2])\n",
    "    except:\n",
    "        CHANNEL_s.data = dict(x=range(0,50), red=N_BINS_CHANNEL_filtered[0], green=N_BINS_CHANNEL_filtered[1], blue=N_BINS_CHANNEL_filtered[2])"
   ]
  },
  {
   "cell_type": "code",
   "execution_count": 20,
   "id": "0481d172-c411-4d93-b7b7-9c0281877f4a",
   "metadata": {},
   "outputs": [],
   "source": [
    "# Fetch the number of images using glob or some other path analyzer\n",
    "N = len(glob.glob(\"static/*.jpg\"))\n",
    "\n",
    "# Find the root directory of your app to generate the image URL for the bokeh server\n",
    "ROOT = os.path.split(os.path.abspath(\".\"))[1] + \"/\"\n",
    "\n",
    "# Number of bins per color for the 3D color histograms\n",
    "N_BINS_COLOR = 16\n",
    "# Number of bins per channel for the channel histograms\n",
    "N_BINS_CHANNEL = 50\n",
    "\n",
    "# Define an array containing the 3D color histograms. We have one histogram per image each having N_BINS_COLOR^3 bins.\n",
    "# i.e. an N * N_BINS_COLOR^3 array\n",
    "N_BINS_COLOR_array = np.zeros(shape=(N, N_BINS_COLOR ** 3))\n",
    "\n",
    "# Define an array containing the channel histograms, there is one per image each having 3 channel and N_BINS_CHANNEL\n",
    "# bins i.e an N x 3 x N_BINS_CHANNEL array\n",
    "N_BINS_CHANNEL_array = np.zeros(shape=(N, 3, N_BINS_CHANNEL))\n",
    "\n",
    "# initialize an empty list for the image file paths\n",
    "image_file_path = []"
   ]
  },
  {
   "cell_type": "code",
   "execution_count": 21,
   "id": "ffd0e1d8-81e5-4620-92da-b0688ff8902b",
   "metadata": {},
   "outputs": [],
   "source": [
    "# Compute the color and channel histograms\n",
    "for idx, f in enumerate(glob.glob(\"static/*.jpg\")):\n",
    "    # open image using PILs Image package\n",
    "\n",
    "    im = Image.open(f)\n",
    "    im_w, im_h = im.size\n",
    "    N_Pixels = im_w * im_h\n",
    "    channels = im.getbands()\n",
    "\n",
    "    # Convert the image into a numpy array and reshape it such that we have an array with the dimensions (N_Pixel, 3)\n",
    "    data = np.asarray(im)\n",
    "    data = np.reshape(data, (N_Pixels, 3))\n",
    "\n",
    "    # Compute a multi dimensional histogram for the pixels, which returns a cube\n",
    "    # reference: https://numpy.org/doc/stable/reference/generated/numpy.histogramdd.html\n",
    "    H, edges = np.histogramdd(data, bins=N_BINS_COLOR)\n",
    "\n",
    "    # However, later used methods do not accept multi dimensional arrays, so reshape it to only have columns and rows\n",
    "    # (N_Images, N_BINS^3) and add it to the color_histograms array you defined earlier\n",
    "    # reference: https://numpy.org/doc/stable/reference/generated/numpy.reshape.html\n",
    "    H = np.reshape(H, ((N_BINS_COLOR ** 3)))\n",
    "    N_BINS_COLOR_array[idx] = H\n",
    "\n",
    "    # Append the image url to the list for the server\n",
    "    url = ROOT + f\n",
    "    image_file_path = image_file_path + [url]\n",
    "\n",
    "    # Compute a \"normal\" histogram for each color channel (rgb)\n",
    "    # reference: https://numpy.org/doc/stable/reference/generated/numpy.histogram.html\n",
    "\n",
    "    hist_red, bins_r = np.histogram(data[:, 0], N_BINS_CHANNEL, [0, 256],density=True)\n",
    "    hist_green, bins_g = np.histogram(data[:, 1], N_BINS_CHANNEL, [0, 256], density=True)\n",
    "    hist_blue, bins_b = np.histogram(data[:, 2], N_BINS_CHANNEL, [0, 256], density=True)\n",
    "\n",
    "    # and add them to the channel_histograms\n",
    "    N_BINS_CHANNEL_array[idx] = [hist_red, hist_green, hist_blue]"
   ]
  },
  {
   "cell_type": "code",
   "execution_count": 22,
   "id": "3fcd3b00-26ad-46b4-9978-923c172b0b3c",
   "metadata": {},
   "outputs": [
    {
     "name": "stderr",
     "output_type": "stream",
     "text": [
      "/Users/marcelaulloa/anaconda3/envs/UZH/lib/python3.10/site-packages/sklearn/manifold/_t_sne.py:780: FutureWarning: The default initialization in TSNE will change from 'random' to 'pca' in 1.2.\n",
      "  warnings.warn(\n",
      "/Users/marcelaulloa/anaconda3/envs/UZH/lib/python3.10/site-packages/sklearn/manifold/_t_sne.py:790: FutureWarning: The default learning rate in TSNE will change from 200.0 to 'auto' in 1.2.\n",
      "  warnings.warn(\n"
     ]
    }
   ],
   "source": [
    "# Calculate the indicated dimensionality reductions\n",
    "# references:\n",
    "# https://scikit-learn.org/stable/modules/generated/sklearn.manifold.TSNE.html\n",
    "# https://scikit-learn.org/stable/modules/generated/sklearn.decomposition.PCA.html\n",
    "\n",
    "# t-SNE reduction\n",
    "N_BINS_COLOR_tsne = TSNE(n_components=2).fit_transform(N_BINS_COLOR_array)\n",
    "\n",
    "# PCA reduction\n",
    "s_N_BINS_COLOR_array = normalize(N_BINS_COLOR_array)\n",
    "pca = PCA(n_components=2)\n",
    "N_BINS_COLOR_pca = pca.fit_transform(s_N_BINS_COLOR_array)"
   ]
  },
  {
   "cell_type": "code",
   "execution_count": 23,
   "id": "8f58e3e6",
   "metadata": {},
   "outputs": [],
   "source": [
    "# Construct a data source containing the dimensional reduction result for both the t-SNE and the PCA and the image paths\n",
    "COLOR_source = ColumnDataSource(\n",
    "    data=dict(url=image_file_path, TSNE_X=list(N_BINS_COLOR_tsne[:, 0]), TSNE_Y=list(N_BINS_COLOR_tsne[:, 1]),PCA_X=list(N_BINS_COLOR_pca[:,0]),PCA_Y=list(N_BINS_COLOR_pca[:,1])))"
   ]
  },
  {
   "cell_type": "code",
   "execution_count": 24,
   "id": "119af007",
   "metadata": {},
   "outputs": [
    {
     "data": {
      "text/html": [
       "<div style=\"display: table;\"><div style=\"display: table-row;\"><div style=\"display: table-cell;\"><b title=\"bokeh.models.renderers.GlyphRenderer\">GlyphRenderer</b>(</div><div style=\"display: table-cell;\">id&nbsp;=&nbsp;'1564', <span id=\"1567\" style=\"cursor: pointer;\">&hellip;)</span></div></div><div class=\"1566\" style=\"display: none;\"><div style=\"display: table-cell;\"></div><div style=\"display: table-cell;\">coordinates&nbsp;=&nbsp;None,</div></div><div class=\"1566\" style=\"display: none;\"><div style=\"display: table-cell;\"></div><div style=\"display: table-cell;\">data_source&nbsp;=&nbsp;ColumnDataSource(id='1530', ...),</div></div><div class=\"1566\" style=\"display: none;\"><div style=\"display: table-cell;\"></div><div style=\"display: table-cell;\">glyph&nbsp;=&nbsp;ImageURL(id='1561', ...),</div></div><div class=\"1566\" style=\"display: none;\"><div style=\"display: table-cell;\"></div><div style=\"display: table-cell;\">group&nbsp;=&nbsp;None,</div></div><div class=\"1566\" style=\"display: none;\"><div style=\"display: table-cell;\"></div><div style=\"display: table-cell;\">hover_glyph&nbsp;=&nbsp;None,</div></div><div class=\"1566\" style=\"display: none;\"><div style=\"display: table-cell;\"></div><div style=\"display: table-cell;\">js_event_callbacks&nbsp;=&nbsp;{},</div></div><div class=\"1566\" style=\"display: none;\"><div style=\"display: table-cell;\"></div><div style=\"display: table-cell;\">js_property_callbacks&nbsp;=&nbsp;{},</div></div><div class=\"1566\" style=\"display: none;\"><div style=\"display: table-cell;\"></div><div style=\"display: table-cell;\">level&nbsp;=&nbsp;'glyph',</div></div><div class=\"1566\" style=\"display: none;\"><div style=\"display: table-cell;\"></div><div style=\"display: table-cell;\">muted&nbsp;=&nbsp;False,</div></div><div class=\"1566\" style=\"display: none;\"><div style=\"display: table-cell;\"></div><div style=\"display: table-cell;\">muted_glyph&nbsp;=&nbsp;ImageURL(id='1563', ...),</div></div><div class=\"1566\" style=\"display: none;\"><div style=\"display: table-cell;\"></div><div style=\"display: table-cell;\">name&nbsp;=&nbsp;None,</div></div><div class=\"1566\" style=\"display: none;\"><div style=\"display: table-cell;\"></div><div style=\"display: table-cell;\">nonselection_glyph&nbsp;=&nbsp;ImageURL(id='1562', ...),</div></div><div class=\"1566\" style=\"display: none;\"><div style=\"display: table-cell;\"></div><div style=\"display: table-cell;\">selection_glyph&nbsp;=&nbsp;'auto',</div></div><div class=\"1566\" style=\"display: none;\"><div style=\"display: table-cell;\"></div><div style=\"display: table-cell;\">subscribed_events&nbsp;=&nbsp;[],</div></div><div class=\"1566\" style=\"display: none;\"><div style=\"display: table-cell;\"></div><div style=\"display: table-cell;\">syncable&nbsp;=&nbsp;True,</div></div><div class=\"1566\" style=\"display: none;\"><div style=\"display: table-cell;\"></div><div style=\"display: table-cell;\">tags&nbsp;=&nbsp;[],</div></div><div class=\"1566\" style=\"display: none;\"><div style=\"display: table-cell;\"></div><div style=\"display: table-cell;\">view&nbsp;=&nbsp;CDSView(id='1565', ...),</div></div><div class=\"1566\" style=\"display: none;\"><div style=\"display: table-cell;\"></div><div style=\"display: table-cell;\">visible&nbsp;=&nbsp;True,</div></div><div class=\"1566\" style=\"display: none;\"><div style=\"display: table-cell;\"></div><div style=\"display: table-cell;\">x_range_name&nbsp;=&nbsp;'default',</div></div><div class=\"1566\" style=\"display: none;\"><div style=\"display: table-cell;\"></div><div style=\"display: table-cell;\">y_range_name&nbsp;=&nbsp;'default')</div></div></div>\n",
       "<script>\n",
       "(function() {\n",
       "  let expanded = false;\n",
       "  const ellipsis = document.getElementById(\"1567\");\n",
       "  ellipsis.addEventListener(\"click\", function() {\n",
       "    const rows = document.getElementsByClassName(\"1566\");\n",
       "    for (let i = 0; i < rows.length; i++) {\n",
       "      const el = rows[i];\n",
       "      el.style.display = expanded ? \"none\" : \"table-row\";\n",
       "    }\n",
       "    ellipsis.innerHTML = expanded ? \"&hellip;)\" : \"&lsaquo;&lsaquo;&lsaquo;\";\n",
       "    expanded = !expanded;\n",
       "  });\n",
       "})();\n",
       "</script>\n"
      ],
      "text/plain": [
       "GlyphRenderer(id='1564', ...)"
      ]
     },
     "execution_count": 24,
     "metadata": {},
     "output_type": "execute_result"
    }
   ],
   "source": [
    "# Create a first figure for the t-SNE data. Add the lasso_select, wheel_zoom, pan and reset tools to it.\n",
    "plot_TSNE = figure(height=500, width=500, title=\"t-SNE\", toolbar_location='right', tools=\"lasso_select,pan,wheel_zoom,reset\")\n",
    "\n",
    "# Use bokehs image_url to plot the images as glyphs\n",
    "# reference: https://docs.bokeh.org/en/latest/docs/reference/models/glyphs/image_url.html\n",
    "w, h = 820, 664\n",
    "plot_TSNE.image_url(url=\"url\", x='TSNE_X', y='TSNE_Y', source=COLOR_source, w=w / 30, h=h / 30, h_units=\"screen\", w_units=\"screen\")"
   ]
  },
  {
   "cell_type": "code",
   "execution_count": 25,
   "id": "def1d0c7",
   "metadata": {},
   "outputs": [],
   "source": [
    "# For Lasso Tool to work:\n",
    "# Add a second renderer (a circle glyph) set it to be completely transparent. \n",
    "# The selection will also be reflected in the image_url source and the circle plot will be completely invisible.\n",
    "plot_TSNE.circle(x=\"TSNE_X\",y=\"TSNE_Y\",source=COLOR_source, size=20, color=\"white\", alpha=0)\n",
    "plot_TSNE.yaxis.axis_label = \"y\"\n",
    "plot_TSNE.xaxis.axis_label = \"x\""
   ]
  },
  {
   "cell_type": "code",
   "execution_count": 31,
   "id": "612631d9-5dfc-471a-a22f-0980c35b64d0",
   "metadata": {},
   "outputs": [
    {
     "ename": "ValueError",
     "evalue": "Only LayoutDOM items can be inserted into a layout.\n                Tried to insert: Title of type <class 'str'>",
     "output_type": "error",
     "traceback": [
      "\u001b[0;31m---------------------------------------------------------------------------\u001b[0m",
      "\u001b[0;31mValueError\u001b[0m                                Traceback (most recent call last)",
      "\u001b[0;32m/var/folders/v7/k35557hd6fjg6xygvtk3f93c0000gn/T/ipykernel_14992/2310051605.py\u001b[0m in \u001b[0;36m<module>\u001b[0;34m\u001b[0m\n\u001b[1;32m     26\u001b[0m \u001b[0;34m\u001b[0m\u001b[0m\n\u001b[1;32m     27\u001b[0m \u001b[0;31m# Construct a layout and use curdoc() to add it to your document.\u001b[0m\u001b[0;34m\u001b[0m\u001b[0;34m\u001b[0m\u001b[0m\n\u001b[0;32m---> 28\u001b[0;31m \u001b[0mcurdoc\u001b[0m\u001b[0;34m(\u001b[0m\u001b[0;34m)\u001b[0m\u001b[0;34m.\u001b[0m\u001b[0madd_root\u001b[0m\u001b[0;34m(\u001b[0m\u001b[0mlayout\u001b[0m\u001b[0;34m(\u001b[0m\u001b[0;34m[\u001b[0m\u001b[0;34m[\u001b[0m\u001b[0;34m'Title'\u001b[0m\u001b[0;34m]\u001b[0m\u001b[0;34m,\u001b[0m\u001b[0;34m[\u001b[0m\u001b[0mplot_TSNE\u001b[0m\u001b[0;34m,\u001b[0m \u001b[0mplot_PCA\u001b[0m\u001b[0;34m,\u001b[0m\u001b[0mplot_hist\u001b[0m\u001b[0;34m]\u001b[0m\u001b[0;34m]\u001b[0m\u001b[0;34m)\u001b[0m\u001b[0;34m)\u001b[0m\u001b[0;34m\u001b[0m\u001b[0;34m\u001b[0m\u001b[0m\n\u001b[0m\u001b[1;32m     29\u001b[0m \u001b[0;34m\u001b[0m\u001b[0m\n\u001b[1;32m     30\u001b[0m \u001b[0;31m# You can use the command below in the folder of your python file to start a bokeh directory app.\u001b[0m\u001b[0;34m\u001b[0m\u001b[0;34m\u001b[0m\u001b[0m\n",
      "\u001b[0;32m~/anaconda3/envs/UZH/lib/python3.10/site-packages/bokeh/layouts.py\u001b[0m in \u001b[0;36mlayout\u001b[0;34m(children, sizing_mode, *args, **kwargs)\u001b[0m\n\u001b[1;32m    210\u001b[0m     \"\"\"\n\u001b[1;32m    211\u001b[0m     \u001b[0m_children\u001b[0m \u001b[0;34m=\u001b[0m \u001b[0m_parse_children_arg\u001b[0m\u001b[0;34m(\u001b[0m\u001b[0;34m*\u001b[0m\u001b[0margs\u001b[0m\u001b[0;34m,\u001b[0m \u001b[0mchildren\u001b[0m\u001b[0;34m=\u001b[0m\u001b[0mchildren\u001b[0m\u001b[0;34m)\u001b[0m\u001b[0;34m\u001b[0m\u001b[0;34m\u001b[0m\u001b[0m\n\u001b[0;32m--> 212\u001b[0;31m     \u001b[0;32mreturn\u001b[0m \u001b[0m_create_grid\u001b[0m\u001b[0;34m(\u001b[0m\u001b[0m_children\u001b[0m\u001b[0;34m,\u001b[0m \u001b[0msizing_mode\u001b[0m\u001b[0;34m,\u001b[0m \u001b[0;34m**\u001b[0m\u001b[0mkwargs\u001b[0m\u001b[0;34m)\u001b[0m\u001b[0;34m\u001b[0m\u001b[0;34m\u001b[0m\u001b[0m\n\u001b[0m\u001b[1;32m    213\u001b[0m \u001b[0;34m\u001b[0m\u001b[0m\n\u001b[1;32m    214\u001b[0m def gridplot(\n",
      "\u001b[0;32m~/anaconda3/envs/UZH/lib/python3.10/site-packages/bokeh/layouts.py\u001b[0m in \u001b[0;36m_create_grid\u001b[0;34m(iterable, sizing_mode, layer, **kwargs)\u001b[0m\n\u001b[1;32m    655\u001b[0m     \u001b[0;32mfor\u001b[0m \u001b[0mitem\u001b[0m \u001b[0;32min\u001b[0m \u001b[0miterable\u001b[0m\u001b[0;34m:\u001b[0m\u001b[0;34m\u001b[0m\u001b[0;34m\u001b[0m\u001b[0m\n\u001b[1;32m    656\u001b[0m         \u001b[0;32mif\u001b[0m \u001b[0misinstance\u001b[0m\u001b[0;34m(\u001b[0m\u001b[0mitem\u001b[0m\u001b[0;34m,\u001b[0m \u001b[0mlist\u001b[0m\u001b[0;34m)\u001b[0m\u001b[0;34m:\u001b[0m\u001b[0;34m\u001b[0m\u001b[0;34m\u001b[0m\u001b[0m\n\u001b[0;32m--> 657\u001b[0;31m             \u001b[0mreturn_list\u001b[0m\u001b[0;34m.\u001b[0m\u001b[0mappend\u001b[0m\u001b[0;34m(\u001b[0m\u001b[0m_create_grid\u001b[0m\u001b[0;34m(\u001b[0m\u001b[0mitem\u001b[0m\u001b[0;34m,\u001b[0m \u001b[0msizing_mode\u001b[0m\u001b[0;34m,\u001b[0m \u001b[0mlayer\u001b[0m \u001b[0;34m+\u001b[0m \u001b[0;36m1\u001b[0m\u001b[0;34m)\u001b[0m\u001b[0;34m)\u001b[0m\u001b[0;34m\u001b[0m\u001b[0;34m\u001b[0m\u001b[0m\n\u001b[0m\u001b[1;32m    658\u001b[0m         \u001b[0;32melif\u001b[0m \u001b[0misinstance\u001b[0m\u001b[0;34m(\u001b[0m\u001b[0mitem\u001b[0m\u001b[0;34m,\u001b[0m \u001b[0mLayoutDOM\u001b[0m\u001b[0;34m)\u001b[0m\u001b[0;34m:\u001b[0m\u001b[0;34m\u001b[0m\u001b[0;34m\u001b[0m\u001b[0m\n\u001b[1;32m    659\u001b[0m             \u001b[0;32mif\u001b[0m \u001b[0msizing_mode\u001b[0m \u001b[0;32mis\u001b[0m \u001b[0;32mnot\u001b[0m \u001b[0;32mNone\u001b[0m \u001b[0;32mand\u001b[0m \u001b[0m_has_auto_sizing\u001b[0m\u001b[0;34m(\u001b[0m\u001b[0mitem\u001b[0m\u001b[0;34m)\u001b[0m\u001b[0;34m:\u001b[0m\u001b[0;34m\u001b[0m\u001b[0;34m\u001b[0m\u001b[0m\n",
      "\u001b[0;32m~/anaconda3/envs/UZH/lib/python3.10/site-packages/bokeh/layouts.py\u001b[0m in \u001b[0;36m_create_grid\u001b[0;34m(iterable, sizing_mode, layer, **kwargs)\u001b[0m\n\u001b[1;32m    661\u001b[0m             \u001b[0mreturn_list\u001b[0m\u001b[0;34m.\u001b[0m\u001b[0mappend\u001b[0m\u001b[0;34m(\u001b[0m\u001b[0mitem\u001b[0m\u001b[0;34m)\u001b[0m\u001b[0;34m\u001b[0m\u001b[0;34m\u001b[0m\u001b[0m\n\u001b[1;32m    662\u001b[0m         \u001b[0;32melse\u001b[0m\u001b[0;34m:\u001b[0m\u001b[0;34m\u001b[0m\u001b[0;34m\u001b[0m\u001b[0m\n\u001b[0;32m--> 663\u001b[0;31m             raise ValueError(\n\u001b[0m\u001b[1;32m    664\u001b[0m                 \"\"\"Only LayoutDOM items can be inserted into a layout.\n\u001b[1;32m    665\u001b[0m                 Tried to insert: %s of type %s\"\"\" % (item, type(item))\n",
      "\u001b[0;31mValueError\u001b[0m: Only LayoutDOM items can be inserted into a layout.\n                Tried to insert: Title of type <class 'str'>"
     ]
    }
   ],
   "source": [
    "# Create a second plot for the PCA result. As before, you need a second glyph renderer for the lasso tool.\n",
    "# Add the same tools as in figure 1\n",
    "plot_PCA = figure(height=500, width=550, title=\"PCA\", toolbar_location='right', tools=\"lasso_select,pan,wheel_zoom,reset\")\n",
    "plot_PCA.image_url(url=\"url\", x='PCA_X', y='PCA_Y', source=COLOR_source, w=w / 30, h=h / 30, h_units=\"screen\", w_units=\"screen\")\n",
    "plot_PCA.circle(x=\"PCA_X\",y=\"PCA_Y\",source=COLOR_source, size=20, color=\"white\", alpha=0)\n",
    "plot_PCA.yaxis.axis_label = \"y\"\n",
    "plot_PCA.xaxis.axis_label = \"x\"\n",
    "\n",
    "# Construct a datasource containing the channel histogram data. Default value should be the selection of all images.\n",
    "N_BINS_CHANNEL_filtered = sum(N_BINS_CHANNEL_array[:,:])\n",
    "CHANNEL_s = ColumnDataSource(data=dict(x=range(0,50), red=N_BINS_CHANNEL_filtered[0], green=N_BINS_CHANNEL_filtered[1], blue=N_BINS_CHANNEL_filtered[2]))\n",
    "\n",
    "# Construct a histogram plot with three lines.\n",
    "# First define a figure and then make three line plots on it, one for each color channel.\n",
    "# Add the wheel_zoom, pan and reset tools to it.\n",
    "plot_hist = figure(height=500, width=500, title=\"Channel Histogram\", toolbar_location='right', tools=\"lasso_select,pan,wheel_zoom,reset\", x_range=(0, 50))\n",
    "plot_hist.line(x='x', y='red',color=\"red\", line_width = 2, source=CHANNEL_s)\n",
    "plot_hist.line(x='x', y='green',color='green', line_width = 2, source=CHANNEL_s)\n",
    "plot_hist.line(x='x', y='blue',color='blue', line_width = 2, source=CHANNEL_s)\n",
    "plot_hist.yaxis.axis_label = \"Frequency\"\n",
    "plot_hist.xaxis.axis_label = \"bins\"\n",
    "\n",
    "# Connect the on_change routine of the selected attribute of the dimensionality reduction ColumnDataSource with a\n",
    "# callback/update function to recompute the channel histogram.\n",
    "COLOR_source.selected.on_change('indices',callback1)\n",
    "\n",
    "# Construct a layout and use curdoc() to add it to your document.\n",
    "curdoc().add_root(layout([['Title'],[plot_TSNE, plot_PCA,plot_hist]]))\n",
    "\n",
    "# You can use the command below in the folder of your python file to start a bokeh directory app.\n",
    "# Be aware that your python file must be named main.py and that your images have to be in a subfolder name \"static\"\n",
    "\n",
    "# bokeh serve --show .\n",
    "# python -m bokeh serve --show .\n",
    "\n",
    "# dev option:\n",
    "# bokeh serve --dev --show .\n",
    "# python -m bokeh serve --dev --show ."
   ]
  },
  {
   "cell_type": "code",
   "execution_count": null,
   "id": "8b52003d-e04d-4a03-86bb-004ebfc9a5ba",
   "metadata": {},
   "outputs": [],
   "source": []
  }
 ],
 "metadata": {
  "kernelspec": {
   "display_name": "UZH",
   "language": "python",
   "name": "uzh"
  },
  "language_info": {
   "codemirror_mode": {
    "name": "ipython",
    "version": 3
   },
   "file_extension": ".py",
   "mimetype": "text/x-python",
   "name": "python",
   "nbconvert_exporter": "python",
   "pygments_lexer": "ipython3",
   "version": "3.10.1"
  }
 },
 "nbformat": 4,
 "nbformat_minor": 5
}
